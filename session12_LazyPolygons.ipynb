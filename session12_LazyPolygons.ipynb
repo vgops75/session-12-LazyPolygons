{
 "cells": [
  {
   "cell_type": "code",
   "execution_count": 1,
   "id": "4a29997b-b54c-49bd-8d2e-7e87854ae9b2",
   "metadata": {},
   "outputs": [],
   "source": [
    "import math\n",
    "import itertools"
   ]
  },
  {
   "cell_type": "markdown",
   "id": "1a90df86-d7b9-4f40-b126-5a7d0d16e761",
   "metadata": {},
   "source": [
    "#### To make lazy evaluation work for this polygon, I introduced two trackers, one tracker `object.__flag` for tracking if the independent parameters have been modified using setter methods, and the other tracker `object.__repeats` for tracking if dependent parameters are called multiple times. Both the tracker parameters are defined as mutable list containers because we need to modify per requirements. However as they are defined using `__` so user cannot modify them accidentally or intentionally.\n",
    "\n",
    "Note: Only independent parameters are defined with setter methods (These are num_edges and circum_radius). Hence these independent parameters are defined as a regular variable without any `_`. Rest of the parameters have no setters associated with them, and are defined using `_`.\n",
    "\n",
    "Exception: I could have made all the dependent parameters with `__` to stop any accidental or intentional editing of parameters but I go with the python standard notation of single `_`. As a result, changes to dependent parameters is possible and could give 'incorrect' results with no warnings or error messages which is dangerous. One example is shown to illustrate this result."
   ]
  },
  {
   "cell_type": "code",
   "execution_count": 2,
   "id": "31cc78c9-fc29-47a5-ac5f-e600793be2ed",
   "metadata": {},
   "outputs": [],
   "source": [
    "# Regular Convex Polygon Object\n",
    "\n",
    "class Polygon:\n",
    "    '''\n",
    "    This Polygon takes 2 parameters -- number of edges (N) and circum-radius (R), and the related parameters\n",
    "    such as vertices, interior angle, edge length, apothem, area and perimeter are obtained using get methods.\n",
    "    Access to modify by name operator is available only for num_edges and circum_rad, and any such \n",
    "    modifications will reflect accordingly in the dependent parameters accessed by get_{attribute} methods.\n",
    "    '''\n",
    "    \n",
    "    def __init__(self, num_edges=3, circum_rad=6):\n",
    "        if not isinstance(num_edges, int):\n",
    "            raise TypeError(f'\"num_edges\" is an integer; TypeError')\n",
    "        if num_edges < 3:\n",
    "            raise ValueError(f'Polygon has a minimum of 3 edges; ValueError')\n",
    "        self.num_edges = num_edges\n",
    "        self.circum_rad = circum_rad\n",
    "        self._vertices = None\n",
    "        self._int_angle = None\n",
    "        self._edge_length = None\n",
    "        self._apothem = None\n",
    "        self._area = None\n",
    "        self._perimeter = None\n",
    "        self.__flag = [0, 0] # changes when setter for num_edges and/or circum_radius is called\n",
    "        self.__repeats = [0, 0, 0, 0, 0, 0] # to track number of times methods get called for \n",
    "\n",
    "    @property\n",
    "    def get_num_edges(self):\n",
    "        return self.num_edges\n",
    "    \n",
    "    @property\n",
    "    def get_circum_rad(self):\n",
    "        return self.circum_rad\n",
    "    \n",
    "    # Allowing num_edges and circum_radius to be modified without checking if they have existing values...\n",
    "    # Because num_edges and circum_radius are independent parameters on which rest of other parameters depend\n",
    "    \n",
    "    @get_num_edges.setter\n",
    "    def set_num_edges(self, n):\n",
    "        print('setter for num_edges called -- you are modifying the original num_edges:')\n",
    "        self.num_edges = n\n",
    "        if self.__flag[0] == 1:\n",
    "            self.__flag[0] = 0\n",
    "        self.__flag[0] = 1\n",
    "        self.__repeats = [0, 0, 0, 0, 0, 0]\n",
    "\n",
    "    @get_circum_rad.setter\n",
    "    def set_circum_rad(self, r):\n",
    "        print('setter for circum_radius called -- you are modifying original circum_radius:')\n",
    "        self.circum_rad = r\n",
    "        if self.__flag[1] == 1:\n",
    "            self.__flag[1] = 0\n",
    "        self.__flag[1] = 1\n",
    "        self.__repeats = [0, 0, 0, 0, 0, 0]\n",
    "\n",
    "    # Setters for dependent properties not allowed\n",
    "    \n",
    "    @property\n",
    "    def vertices(self):\n",
    "        # print('getter for vertices')\n",
    "        cnts = self.__repeats[0]\n",
    "        if cnts == 0:\n",
    "            if self._vertices is None or sum(self.__flag) >= 1:\n",
    "                # print(f'executing first time ...')\n",
    "                # return self.get_num_edges\n",
    "                self._vertices = self.get_num_edges\n",
    "                self.__repeats[0] = 1\n",
    "        return self._vertices\n",
    "        \n",
    "    @property\n",
    "    def int_angle(self):\n",
    "        # print('getter for interior angle')\n",
    "        cnts = self.__repeats[1]\n",
    "        if cnts == 0:\n",
    "            if self._int_angle is None or sum(self.__flag) >= 1:\n",
    "                # print(f'executing first time ...')\n",
    "                self._int_angle = (self.get_num_edges - 2) * 180 / self.get_num_edges\n",
    "                self.__repeats[1] = 1\n",
    "        return self._int_angle\n",
    "\n",
    "    @property\n",
    "    def edge_length(self):\n",
    "        # print('getter for edge_length')\n",
    "        cnts = self.__repeats[2]\n",
    "        if cnts == 0:\n",
    "            if self._edge_length is None or sum(self.__flag) >= 1:\n",
    "                # print(f'executing first time ...')\n",
    "                self._edge_length = 2*self.get_circum_rad * math.sin(math.pi / self.get_num_edges)\n",
    "                self.__repeats[2] = 1\n",
    "        return self._edge_length\n",
    "\n",
    "    @property\n",
    "    def apothem(self):\n",
    "        # print('getter for apothem')\n",
    "        cnts = self.__repeats[3]\n",
    "        if cnts == 0:\n",
    "            if self._apothem is None or sum(self.__flag) >= 1:\n",
    "                # print(f'executing first time ...')\n",
    "                self._apothem = self.get_circum_rad * math.cos(math.pi / self.get_num_edges)\n",
    "                self.__repeats[3] = 1\n",
    "        return self._apothem\n",
    "\n",
    "    @property\n",
    "    def area(self):\n",
    "        # print('getter for area')\n",
    "        cnts = self.__repeats[4]\n",
    "        if cnts == 0:\n",
    "            if self._area is None or sum(self.__flag) >= 1:\n",
    "                # print(f'executing first time ...')\n",
    "                self._area = self.get_num_edges * self.edge_length * self.apothem / 2\n",
    "                self.__repeats[4] = 1\n",
    "        return self._area\n",
    "\n",
    "    @property\n",
    "    def perimeter(self):\n",
    "        # print('getter for perimeter')\n",
    "        cnts = self.__repeats[5]\n",
    "        if cnts == 0:\n",
    "            if self._perimeter is None or sum(self.__flag) >= 1:\n",
    "                # print(f'executing first time ...')\n",
    "                self._perimeter = self.get_num_edges * self.edge_length\n",
    "                self.__repeats[5] = 1\n",
    "        return self._perimeter\n",
    "\n",
    "    def __repr__(self):\n",
    "        return f'Polygon(edges={self.get_num_edges}, rad={self.get_circum_rad})'\n",
    "\n",
    "    def __eq__(self, other):\n",
    "        if isinstance(other, self.__class__):\n",
    "            if self.vertices == other.vertices and self.get_circum_rad == other.get_circum_rad:\n",
    "                return True\n",
    "            else:\n",
    "                return False\n",
    "        else:\n",
    "            return print(f'Compare instances of same class: Right-side instance not a Polygon')\n",
    "\n",
    "    def __gt__(self, other):\n",
    "        if isinstance(other, self.__class__):\n",
    "            if self.vertices > other.vertices:\n",
    "                return True\n",
    "            else:\n",
    "                return False\n",
    "        else:\n",
    "            return print(f'Compare instances of same class: Right-side instance not a Polygon')"
   ]
  },
  {
   "cell_type": "code",
   "execution_count": 3,
   "id": "f22ca24e-248d-4e63-8f9a-d68fbc863a9c",
   "metadata": {},
   "outputs": [],
   "source": [
    "def test_polygon():\n",
    "    abs_tol = 0.001\n",
    "    rel_tol = 0.001\n",
    "    \n",
    "    try:\n",
    "        p = Polygon(2, 10)\n",
    "        assert False, ('Creating a Polygon with 2 sides: '\n",
    "                       ' Exception expected, not received')\n",
    "    except ValueError:\n",
    "        pass\n",
    "                       \n",
    "    n = 3\n",
    "    R = 1\n",
    "    p = Polygon(n, R)\n",
    "    assert str(p) == 'Polygon(edges=3, rad=1)', f'actual: {str(p)}'\n",
    "    assert p.vertices == n, (f'actual: {p.vertices},'\n",
    "                                   f' expected: {n}')\n",
    "    assert p.get_num_edges == n, f'actual: {p.get_num_edges}, expected: {n}'\n",
    "    assert p.get_circum_rad == R, f'actual: {p.get_circum_rad}, expected: {R}'\n",
    "    assert p.int_angle == 60, (f'actual: {p.int_angle},'\n",
    "                                    ' expected: 60')\n",
    "    n = 4\n",
    "    R = 1\n",
    "    p = Polygon(n, R)\n",
    "    assert p.int_angle == 90, (f'actual: {p.int_angle}, '\n",
    "                                    ' expected: 90')\n",
    "    assert math.isclose(p.area, 2, \n",
    "                        rel_tol=abs_tol, \n",
    "                        abs_tol=abs_tol), (f'actual: {p.area},'\n",
    "                                           ' expected: 2.0')\n",
    "    \n",
    "    assert math.isclose(p.edge_length, math.sqrt(2),\n",
    "                       rel_tol=rel_tol,\n",
    "                       abs_tol=abs_tol), (f'actual: {p.edge_length},'\n",
    "                                          f' expected: {math.sqrt(2)}')\n",
    "    \n",
    "    assert math.isclose(p.perimeter, 4 * math.sqrt(2),\n",
    "                       rel_tol=rel_tol,\n",
    "                       abs_tol=abs_tol), (f'actual: {p.perimeter},'\n",
    "                                          f' expected: {4 * math.sqrt(2)}')\n",
    "    \n",
    "    assert math.isclose(p.apothem, 0.707,\n",
    "                       rel_tol=rel_tol,\n",
    "                       abs_tol=abs_tol), (f'actual: {p.apothem},'\n",
    "                                          ' expected: 0.707')\n",
    "    p = Polygon(6, 2)\n",
    "    assert math.isclose(p.edge_length, 2,\n",
    "                        rel_tol=rel_tol, abs_tol=abs_tol)\n",
    "    assert math.isclose(p.apothem, 1.73205,\n",
    "                        rel_tol=rel_tol, abs_tol=abs_tol)\n",
    "    assert math.isclose(p.area, 10.3923,\n",
    "                        rel_tol=rel_tol, abs_tol=abs_tol)\n",
    "    assert math.isclose(p.perimeter, 12,\n",
    "                        rel_tol=rel_tol, abs_tol=abs_tol)\n",
    "    assert math.isclose(p.int_angle, 120,\n",
    "                        rel_tol=rel_tol, abs_tol=abs_tol)\n",
    "    \n",
    "    p = Polygon(12, 3)\n",
    "    assert math.isclose(p.edge_length, 1.55291,\n",
    "                        rel_tol=rel_tol, abs_tol=abs_tol)\n",
    "    assert math.isclose(p.apothem, 2.89778,\n",
    "                        rel_tol=rel_tol, abs_tol=abs_tol)\n",
    "    assert math.isclose(p.area, 27,\n",
    "                        rel_tol=rel_tol, abs_tol=abs_tol)\n",
    "    assert math.isclose(p.perimeter, 18.635,\n",
    "                        rel_tol=rel_tol, abs_tol=abs_tol)\n",
    "    assert math.isclose(p.int_angle, 150,\n",
    "                        rel_tol=rel_tol, abs_tol=abs_tol)\n",
    "    \n",
    "    p1 = Polygon(3, 10)\n",
    "    p2 = Polygon(10, 10)\n",
    "    p3 = Polygon(15, 10)\n",
    "    p4 = Polygon(15, 100)\n",
    "    p5 = Polygon(15, 100)\n",
    "    \n",
    "    assert p2 > p1\n",
    "    assert p2 < p3\n",
    "    assert p3 != p4\n",
    "    assert p1 != p4\n",
    "    assert p4 == p5"
   ]
  },
  {
   "cell_type": "code",
   "execution_count": 4,
   "id": "ca224007-7ef3-4328-b266-472e2a6f7f58",
   "metadata": {},
   "outputs": [],
   "source": [
    "test_polygon()"
   ]
  },
  {
   "cell_type": "code",
   "execution_count": 5,
   "id": "e46ecb1a-d81e-4f86-84ee-e5a2a500907a",
   "metadata": {},
   "outputs": [],
   "source": [
    "p = Polygon(5, 3)"
   ]
  },
  {
   "cell_type": "code",
   "execution_count": 6,
   "id": "7e2b5482-24d8-4b6e-ae6c-08fa5e74938e",
   "metadata": {},
   "outputs": [
    {
     "data": {
      "text/plain": [
       "Polygon(edges=5, rad=3)"
      ]
     },
     "execution_count": 6,
     "metadata": {},
     "output_type": "execute_result"
    }
   ],
   "source": [
    "p"
   ]
  },
  {
   "cell_type": "code",
   "execution_count": 7,
   "id": "6e2dba38-5377-4b3e-9269-db46d1638dc1",
   "metadata": {},
   "outputs": [
    {
     "data": {
      "text/plain": [
       "(5,\n",
       " 108.0,\n",
       " 3.526711513754839,\n",
       " 2.4270509831248424,\n",
       " 21.398771616640957,\n",
       " 17.633557568774194)"
      ]
     },
     "execution_count": 7,
     "metadata": {},
     "output_type": "execute_result"
    }
   ],
   "source": [
    "p.vertices, p.int_angle, p.edge_length, p.apothem, p.area, p.perimeter"
   ]
  },
  {
   "cell_type": "code",
   "execution_count": 8,
   "id": "5911a933-6f7f-499a-9bdb-e4096ff52aeb",
   "metadata": {},
   "outputs": [
    {
     "name": "stdout",
     "output_type": "stream",
     "text": [
      "setter for circum_radius called -- you are modifying original circum_radius:\n"
     ]
    }
   ],
   "source": [
    "p.set_circum_rad = 5"
   ]
  },
  {
   "cell_type": "code",
   "execution_count": 9,
   "id": "230616f7-9402-4c85-bb54-7402e8e8a94a",
   "metadata": {},
   "outputs": [
    {
     "data": {
      "text/plain": [
       "Polygon(edges=5, rad=5)"
      ]
     },
     "execution_count": 9,
     "metadata": {},
     "output_type": "execute_result"
    }
   ],
   "source": [
    "p"
   ]
  },
  {
   "cell_type": "code",
   "execution_count": 10,
   "id": "4476f268-8bd1-4a11-9995-014afe97d36e",
   "metadata": {},
   "outputs": [
    {
     "data": {
      "text/plain": [
       "(5,\n",
       " 108.0,\n",
       " 5.877852522924732,\n",
       " 4.045084971874737,\n",
       " 59.44103226844711,\n",
       " 29.38926261462366)"
      ]
     },
     "execution_count": 10,
     "metadata": {},
     "output_type": "execute_result"
    }
   ],
   "source": [
    "p.vertices, p.int_angle, p.edge_length, p.apothem, p.area, p.perimeter"
   ]
  },
  {
   "cell_type": "code",
   "execution_count": 11,
   "id": "2948b0dd-e8ff-4189-9c67-6c7681470ca1",
   "metadata": {},
   "outputs": [],
   "source": [
    "# Unintended usage of `_` defined variables. Now that we change the value like this, it still\n",
    "# prints out the last saved output that doesnt reflect the change in the parameter value.\n",
    "\n",
    "p._vertices = 9"
   ]
  },
  {
   "cell_type": "markdown",
   "id": "097b95be-dd6a-4c2c-8adf-bba1b054270a",
   "metadata": {},
   "source": [
    "Notice that only the number of vertices got changed, and the values of the rest of the properties (dependent properties) don't reflect the appropriate change."
   ]
  },
  {
   "cell_type": "code",
   "execution_count": 12,
   "id": "fd4a19dc-fd7d-4337-a207-72fda78d6a4d",
   "metadata": {},
   "outputs": [
    {
     "data": {
      "text/plain": [
       "(9,\n",
       " 108.0,\n",
       " 5.877852522924732,\n",
       " 4.045084971874737,\n",
       " 59.44103226844711,\n",
       " 29.38926261462366)"
      ]
     },
     "execution_count": 12,
     "metadata": {},
     "output_type": "execute_result"
    }
   ],
   "source": [
    "p.vertices, p.int_angle, p.edge_length, p.apothem, p.area, p.perimeter"
   ]
  },
  {
   "cell_type": "code",
   "execution_count": 13,
   "id": "6f177280-5880-486e-8f90-1aa9cb3de7de",
   "metadata": {},
   "outputs": [],
   "source": [
    "class PolygonIterator:\n",
    "    '''\n",
    "    This class takes in number of vertices for the largest polygon in the sequence. Currently the sequence type is chosen as list,\n",
    "    but it can be changed later, if required. The SequencePolygon class also takes in a circum_radius and it is assumed to be common\n",
    "    for all of the polygons in the sequence.\n",
    "    '''\n",
    "    def __init__(self, num_vertices=3, circum_rad=6):\n",
    "        if not isinstance(num_vertices, int):\n",
    "            raise TypeError(f'\"num_vertices\" is an integer; TypeError')\n",
    "        if num_vertices < 3:\n",
    "            raise ValueError(f'Polygon has a minimum of 3 vertices; ValueError')\n",
    "        \n",
    "        self.num_vertices = num_vertices\n",
    "        self.circum_rad = circum_rad\n",
    "        # self._pgon_pairs = ((Polygon, (edges, self.circum_rad)) for edges in range(3, self.num_vertices+1))\n",
    "        self.pairs = ((edges, self.circum_rad) for edges in range(3, self.num_vertices+1))\n",
    "        self.__start = 0\n",
    "        \n",
    "    def __len__(self):\n",
    "        return self.num_vertices - 2\n",
    "    \n",
    "    def __repr__(self):\n",
    "        return f'PolygonIterator(iterable: edges={self.num_vertices}, fixed: rad={self.circum_rad})'\n",
    "    \n",
    "    def __iter__(self):\n",
    "        return self.PgonIter(num_polygons=len(self), polypairs = self.pairs)\n",
    "    \n",
    "    def start_again(self):\n",
    "        self.pairs = ((edges, self.circum_rad) for edges in range(3, self.num_vertices+1))\n",
    "        return self.pairs       \n",
    "                \n",
    "    def __getitem__(self, index):\n",
    "        self.pairs = self.start_again()\n",
    "        try:\n",
    "            if index not in range(self.num_vertices - 2):\n",
    "                raise IndexError\n",
    "        except Exception:\n",
    "            print(f'IndexError: Index out of range')\n",
    "            return f''\n",
    "        else:\n",
    "            keyval_pairs = dict(enumerate(self.pairs))\n",
    "            if index >= len(self):\n",
    "                raise IndexError\n",
    "            vals = keyval_pairs[index]\n",
    "            edges = vals[0]\n",
    "            circum_radius = vals[1]\n",
    "            self.pairs = self.start_again()\n",
    "            return Polygon(edges, circum_radius)\n",
    "            \n",
    "    class PgonIter:\n",
    "        def __init__(self, num_polygons, polypairs):\n",
    "            self.length = num_polygons\n",
    "            self.i = 0\n",
    "            self.polyps = polypairs\n",
    "            \n",
    "        def __iter__(self):\n",
    "            return self\n",
    "        \n",
    "        def __next__(self):\n",
    "            # print(f'Executing PgonIter __next__')\n",
    "            try:\n",
    "                if self.i >= self.length:\n",
    "                    raise StopIteration\n",
    "            except StopIteration:\n",
    "                print(f'StopIteration: Iterator reached max_value')\n",
    "                return print(f'')\n",
    "            else:\n",
    "                current = self.i\n",
    "                self.i += 1\n",
    "                res = next(self.polyps)\n",
    "                return Polygon(*res)"
   ]
  },
  {
   "cell_type": "code",
   "execution_count": 14,
   "id": "f09dafec-aa03-458f-ab78-466ef456066c",
   "metadata": {},
   "outputs": [],
   "source": [
    "s = PolygonIterator(5, 5)"
   ]
  },
  {
   "cell_type": "code",
   "execution_count": 15,
   "id": "384918e7-e2e1-4a06-803e-bff52d23fa9d",
   "metadata": {},
   "outputs": [
    {
     "data": {
      "text/plain": [
       "Polygon(edges=4, rad=5)"
      ]
     },
     "execution_count": 15,
     "metadata": {},
     "output_type": "execute_result"
    }
   ],
   "source": [
    "s[1]"
   ]
  },
  {
   "cell_type": "code",
   "execution_count": 16,
   "id": "6c6a108e-87c6-4169-83e8-94ffa788aa8f",
   "metadata": {},
   "outputs": [
    {
     "data": {
      "text/plain": [
       "Polygon(edges=3, rad=5)"
      ]
     },
     "execution_count": 16,
     "metadata": {},
     "output_type": "execute_result"
    }
   ],
   "source": [
    "next(iter(s))"
   ]
  },
  {
   "cell_type": "code",
   "execution_count": 17,
   "id": "37069bb2-e272-49e2-974a-6480302c5f5c",
   "metadata": {},
   "outputs": [],
   "source": [
    "item = iter(s)"
   ]
  },
  {
   "cell_type": "code",
   "execution_count": 18,
   "id": "1a1cf8ea-7cb8-47f5-a768-ab12aa398997",
   "metadata": {},
   "outputs": [
    {
     "data": {
      "text/plain": [
       "Polygon(edges=4, rad=5)"
      ]
     },
     "execution_count": 18,
     "metadata": {},
     "output_type": "execute_result"
    }
   ],
   "source": [
    "next(item)"
   ]
  },
  {
   "cell_type": "code",
   "execution_count": 19,
   "id": "4c91f415-1ea2-4844-8899-69161e416d64",
   "metadata": {},
   "outputs": [
    {
     "data": {
      "text/plain": [
       "Polygon(edges=5, rad=5)"
      ]
     },
     "execution_count": 19,
     "metadata": {},
     "output_type": "execute_result"
    }
   ],
   "source": [
    "next(iter(s))"
   ]
  },
  {
   "cell_type": "code",
   "execution_count": 20,
   "id": "be8e1e2c-9705-4dae-821d-bb00dcf63802",
   "metadata": {},
   "outputs": [],
   "source": [
    "# Test cases for the PolygonIterator\n",
    "\n",
    "def test_polygon_iterator():\n",
    "    abs_tol = 0.001\n",
    "    rel_tol = 0.001\n",
    "    \n",
    "    try:\n",
    "        p = PolygonIterator(2, 10)\n",
    "        assert False, ('Creating a Polygon with 2 sides: '\n",
    "                       ' Exception expected, not received')\n",
    "    except ValueError:\n",
    "        pass\n",
    "                       \n",
    "    n = 3\n",
    "    R = 1\n",
    "    p = PolygonIterator(n, R)\n",
    "    assert str(p) == 'PolygonIterator(iterable: edges=3, fixed: rad=1)', f'actual: {str(p)}'\n",
    "    assert len(p) == n-3+1, f'actual: {len(p)}'\n",
    "    try:\n",
    "        print(p[1])\n",
    "        assert False, ('Printing out of range item: '\n",
    "                       'IndexError exception expected, not received')\n",
    "    except AssertionError:\n",
    "        pass\n",
    "    \n",
    "    # Now we are going to access individual Polygon using __getitem__() i.e., dictionary key-value of object\n",
    "    # if p is the PolygonIterator instance, p[0] denotes Polygon(3,R), p[1] = Polygon(4,R), etc. for any R.\n",
    "    \n",
    "    n = 4\n",
    "    R = 1\n",
    "    p = PolygonIterator(n, R)\n",
    "    # Below I used the index 1 (p[1]) as p will generate two polygons Polygon(3, 1) and Polygon(4, 1)\n",
    "    assert p[1].int_angle == 90, (f'actual: {p[1].int_angle}, '\n",
    "                                    ' expected: 90')\n",
    "    assert math.isclose(p[1].area, 2, \n",
    "                        rel_tol=abs_tol, \n",
    "                        abs_tol=abs_tol), (f'actual: {p[1].area},'\n",
    "                                           ' expected: 2.0')\n",
    "    \n",
    "    assert math.isclose(p[1].edge_length, math.sqrt(2),\n",
    "                       rel_tol=rel_tol,\n",
    "                       abs_tol=abs_tol), (f'actual: {p[1].edge_length},'\n",
    "                                          f' expected: {math.sqrt(2)}')\n",
    "    \n",
    "    assert math.isclose(p[1].perimeter, 4 * math.sqrt(2),\n",
    "                       rel_tol=rel_tol,\n",
    "                       abs_tol=abs_tol), (f'actual: {p[1].perimeter},'\n",
    "                                          f' expected: {4 * math.sqrt(2)}')\n",
    "    \n",
    "    assert math.isclose(p[1].apothem, 0.707,\n",
    "                       rel_tol=rel_tol,\n",
    "                       abs_tol=abs_tol), (f'actual: {p[1].apothem},'\n",
    "                                          ' expected: 0.707')\n",
    "    \n",
    "    p = PolygonIterator(6, 2)\n",
    "    # Here p[3] refers to Polygon(6, 2) as p will create a sequence of Polygons i.e., Polygon(3, 2), Polygon(4, 2), Polygon(5, 2) and Polygon(6, 2)\n",
    "    assert math.isclose(p[3].edge_length, 2,\n",
    "                        rel_tol=rel_tol, abs_tol=abs_tol)\n",
    "    assert math.isclose(p[3].apothem, 1.73205,\n",
    "                        rel_tol=rel_tol, abs_tol=abs_tol)\n",
    "    assert math.isclose(p[3].area, 10.3923,\n",
    "                        rel_tol=rel_tol, abs_tol=abs_tol)\n",
    "    assert math.isclose(p[3].perimeter, 12,\n",
    "                        rel_tol=rel_tol, abs_tol=abs_tol)\n",
    "    assert math.isclose(p[3].int_angle, 120,\n",
    "                        rel_tol=rel_tol, abs_tol=abs_tol)\n",
    "    \n",
    "    p = PolygonIterator(12, 3)\n",
    "    assert math.isclose(p[9].edge_length, 1.55291,\n",
    "                        rel_tol=rel_tol, abs_tol=abs_tol)\n",
    "    assert math.isclose(p[9].apothem, 2.89778,\n",
    "                        rel_tol=rel_tol, abs_tol=abs_tol)\n",
    "    assert math.isclose(p[9].area, 27,\n",
    "                        rel_tol=rel_tol, abs_tol=abs_tol)\n",
    "    assert math.isclose(p[9].perimeter, 18.635,\n",
    "                        rel_tol=rel_tol, abs_tol=abs_tol)\n",
    "    assert math.isclose(p[9].int_angle, 150,\n",
    "                        rel_tol=rel_tol, abs_tol=abs_tol)\n",
    "    \n",
    "    p1 = PolygonIterator(3, 10)\n",
    "    p2 = PolygonIterator(10, 10)\n",
    "    p3 = PolygonIterator(15, 10)\n",
    "    p4 = PolygonIterator(15, 100)\n",
    "    p5 = PolygonIterator(15, 100)\n",
    "    \n",
    "    assert all([p2[i] > p1[0] for i in range(1, 8)])\n",
    "    assert all([p2[7] < p3[i] for i in range(8, 13)])\n",
    "    assert all([p3[i] != p4[i] for i in range(13)])\n",
    "    assert p1[0] != p4[0]\n",
    "    assert all([p4[i] == p5[i] for i in range(13)])"
   ]
  },
  {
   "cell_type": "code",
   "execution_count": 21,
   "id": "b903ebd7-25d4-4427-b23f-037fb81693cc",
   "metadata": {},
   "outputs": [
    {
     "name": "stdout",
     "output_type": "stream",
     "text": [
      "IndexError: Index out of range\n",
      "\n"
     ]
    }
   ],
   "source": [
    "test_polygon_iterator()"
   ]
  }
 ],
 "metadata": {
  "kernelspec": {
   "display_name": "Python 3",
   "language": "python",
   "name": "python3"
  },
  "language_info": {
   "codemirror_mode": {
    "name": "ipython",
    "version": 3
   },
   "file_extension": ".py",
   "mimetype": "text/x-python",
   "name": "python",
   "nbconvert_exporter": "python",
   "pygments_lexer": "ipython3",
   "version": "3.7.7"
  }
 },
 "nbformat": 4,
 "nbformat_minor": 5
}
