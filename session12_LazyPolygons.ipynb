{
 "cells": [
  {
   "cell_type": "code",
   "execution_count": 1,
   "id": "4a29997b-b54c-49bd-8d2e-7e87854ae9b2",
   "metadata": {},
   "outputs": [],
   "source": [
    "import math\n",
    "import itertools"
   ]
  },
  {
   "cell_type": "markdown",
   "id": "1a90df86-d7b9-4f40-b126-5a7d0d16e761",
   "metadata": {},
   "source": [
    "#### To make lazy evaluation work for this polygon, I introduced two trackers, one tracker `object.__flag` for tracking if the independent parameters have been modified using setter methods, and the other tracker `object.__repeats` for tracking if dependent parameters are called multiple times. Both the tracker parameters are defined as mutable list containers because we need to modify per requirements. However as they are defined using `__` so user cannot modify them accidentally or intentionally.\n",
    "\n",
    "Note: Only independent parameters are defined with setter methods (These are num_edges and circum_radius). Hence these independent parameters are defined as a regular variable without any `_`. Rest of the parameters have no setters associated with them, and are defined using `_`.\n",
    "\n",
    "Exception: I could have made all the dependent parameters with `__` to stop any accidental or intentional editing of parameters but I go with the python standard notation of single `_`. As a result, changes to dependent parameters is possible and could give 'incorrect' results with no warnings or error messages which is dangerous. One example is shown to illustrate this result."
   ]
  },
  {
   "cell_type": "code",
   "execution_count": 2,
   "id": "31cc78c9-fc29-47a5-ac5f-e600793be2ed",
   "metadata": {},
   "outputs": [],
   "source": [
    "# Regular Convex Polygon Object\n",
    "\n",
    "class Polygon:\n",
    "    '''\n",
    "    This Polygon takes 2 parameters -- number of edges (N) and circum-radius (R), and the related parameters\n",
    "    such as vertices, interior angle, edge length, apothem, area and perimeter are obtained using get methods.\n",
    "    Access to modify by name operator is available only for num_edges and circum_rad, and any such \n",
    "    modifications will reflect accordingly in the dependent parameters accessed by get_{attribute} methods.\n",
    "    '''\n",
    "    \n",
    "    def __init__(self, num_edges=3, circum_rad=6):\n",
    "        if not isinstance(num_edges, int):\n",
    "            raise TypeError(f'\"num_edges\" is an integer; TypeError')\n",
    "        if num_edges < 3:\n",
    "            raise ValueError(f'Polygon has a minimum of 3 edges; ValueError')\n",
    "        self.num_edges = num_edges\n",
    "        self.circum_rad = circum_rad\n",
    "        self._vertices = None\n",
    "        self._int_angle = None\n",
    "        self._edge_length = None\n",
    "        self._apothem = None\n",
    "        self._area = None\n",
    "        self._perimeter = None\n",
    "        self.__flag = [0, 0] # changes when setter for num_edges and/or circum_radius is called\n",
    "        self.__repeats = [0, 0, 0, 0, 0, 0] # to track number of times methods get called for \n",
    "\n",
    "    @property\n",
    "    def get_num_edges(self):\n",
    "        return self.num_edges\n",
    "    \n",
    "    @property\n",
    "    def get_circum_rad(self):\n",
    "        return self.circum_rad\n",
    "    \n",
    "    # Allowing num_edges and circum_radius to be modified without checking if they have existing values...\n",
    "    # Because num_edges and circum_radius are independent parameters on which rest of other parameters depend\n",
    "    \n",
    "    @get_num_edges.setter\n",
    "    def set_num_edges(self, n):\n",
    "        print('setter for num_edges called -- you are modifying the original num_edges:')\n",
    "        self.num_edges = n\n",
    "        if self.__flag[0] == 1:\n",
    "            self.__flag[0] = 0\n",
    "        self.__flag[0] = 1\n",
    "        self.__repeats = [0, 0, 0, 0, 0, 0]\n",
    "\n",
    "    @get_circum_rad.setter\n",
    "    def set_circum_rad(self, r):\n",
    "        print('setter for circum_radius called -- you are modifying original circum_radius:')\n",
    "        self.circum_rad = r\n",
    "        if self.__flag[1] == 1:\n",
    "            self.__flag[1] = 0\n",
    "        self.__flag[1] = 1\n",
    "        self.__repeats = [0, 0, 0, 0, 0, 0]\n",
    "\n",
    "    # Setters for dependent properties not allowed\n",
    "    \n",
    "    @property\n",
    "    def vertices(self):\n",
    "        print('getter for vertices')\n",
    "        cnts = self.__repeats[0]\n",
    "        if cnts == 0:\n",
    "            if self._vertices is None or sum(self.__flag) >= 1:\n",
    "                print(f'executing first time ...')\n",
    "                # return self.get_num_edges\n",
    "                self._vertices = self.get_num_edges\n",
    "                self.__repeats[0] = 1\n",
    "        return self._vertices\n",
    "        \n",
    "    @property\n",
    "    def int_angle(self):\n",
    "        print('getter for interior angle')\n",
    "        cnts = self.__repeats[1]\n",
    "        if cnts == 0:\n",
    "            if self._int_angle is None or sum(self.__flag) >= 1:\n",
    "                print(f'executing first time ...')\n",
    "                self._int_angle = (self.get_num_edges - 2) * 180 / self.get_num_edges\n",
    "                self.__repeats[1] = 1\n",
    "        return self._int_angle\n",
    "\n",
    "    @property\n",
    "    def edge_length(self):\n",
    "        print('getter for edge_length')\n",
    "        cnts = self.__repeats[2]\n",
    "        if cnts == 0:\n",
    "            if self._edge_length is None or sum(self.__flag) >= 1:\n",
    "                print(f'executing first time ...')\n",
    "                self._edge_length = 2*self.get_circum_rad * math.sin(math.pi / self.get_num_edges)\n",
    "                self.__repeats[2] = 1\n",
    "        return self._edge_length\n",
    "\n",
    "    @property\n",
    "    def apothem(self):\n",
    "        print('getter for apothem')\n",
    "        cnts = self.__repeats[3]\n",
    "        if cnts == 0:\n",
    "            if self._apothem is None or sum(self.__flag) >= 1:\n",
    "                print(f'executing first time ...')\n",
    "                self._apothem = self.get_circum_rad * math.cos(math.pi / self.get_num_edges)\n",
    "                self.__repeats[3] = 1\n",
    "        return self._apothem\n",
    "\n",
    "    @property\n",
    "    def area(self):\n",
    "        print('getter for area')\n",
    "        cnts = self.__repeats[4]\n",
    "        if cnts == 0:\n",
    "            if self._area is None or sum(self.__flag) >= 1:\n",
    "                print(f'executing first time ...')\n",
    "                self._area = self.get_num_edges * self.edge_length * self.apothem / 2\n",
    "                self.__repeats[4] = 1\n",
    "        return self._area\n",
    "\n",
    "    @property\n",
    "    def perimeter(self):\n",
    "        print('getter for perimeter')\n",
    "        cnts = self.__repeats[5]\n",
    "        if cnts == 0:\n",
    "            if self._perimeter is None or sum(self.__flag) >= 1:\n",
    "                print(f'executing first time ...')\n",
    "                self._perimeter = self.get_num_edges * self.edge_length\n",
    "                self.__repeats[5] = 1\n",
    "        return self._perimeter\n",
    "\n",
    "    def __repr__(self):\n",
    "        return f'Polygon(edges={self.get_num_edges}, rad={self.get_circum_rad})'\n",
    "\n",
    "    def __eq__(self, other):\n",
    "        if isinstance(other, self.__class__):\n",
    "            if self.vertices == other.vertices and self.get_circum_rad == other.get_circum_rad:\n",
    "                return True\n",
    "            else:\n",
    "                return False\n",
    "        else:\n",
    "            return print(f'Compare instances of same class: Right-side instance not a Polygon')\n",
    "\n",
    "    def __gt__(self, other):\n",
    "        if isinstance(other, self.__class__):\n",
    "            if self.vertices > other.vertices:\n",
    "                return True\n",
    "            else:\n",
    "                return False\n",
    "        else:\n",
    "            return print(f'Compare instances of same class: Right-side instance not a Polygon')"
   ]
  },
  {
   "cell_type": "code",
   "execution_count": 3,
   "id": "e46ecb1a-d81e-4f86-84ee-e5a2a500907a",
   "metadata": {},
   "outputs": [],
   "source": [
    "p = Polygon(5, 3)"
   ]
  },
  {
   "cell_type": "code",
   "execution_count": 4,
   "id": "7e2b5482-24d8-4b6e-ae6c-08fa5e74938e",
   "metadata": {},
   "outputs": [
    {
     "data": {
      "text/plain": [
       "Polygon(edges=5, rad=3)"
      ]
     },
     "execution_count": 4,
     "metadata": {},
     "output_type": "execute_result"
    }
   ],
   "source": [
    "p"
   ]
  },
  {
   "cell_type": "code",
   "execution_count": 5,
   "id": "6e2dba38-5377-4b3e-9269-db46d1638dc1",
   "metadata": {},
   "outputs": [
    {
     "name": "stdout",
     "output_type": "stream",
     "text": [
      "getter for vertices\n",
      "executing first time ...\n",
      "getter for interior angle\n",
      "executing first time ...\n",
      "getter for edge_length\n",
      "executing first time ...\n",
      "getter for apothem\n",
      "executing first time ...\n",
      "getter for area\n",
      "executing first time ...\n",
      "getter for edge_length\n",
      "getter for apothem\n",
      "getter for perimeter\n",
      "executing first time ...\n",
      "getter for edge_length\n"
     ]
    },
    {
     "data": {
      "text/plain": [
       "(5,\n",
       " 108.0,\n",
       " 3.526711513754839,\n",
       " 2.4270509831248424,\n",
       " 21.398771616640957,\n",
       " 17.633557568774194)"
      ]
     },
     "execution_count": 5,
     "metadata": {},
     "output_type": "execute_result"
    }
   ],
   "source": [
    "p.vertices, p.int_angle, p.edge_length, p.apothem, p.area, p.perimeter"
   ]
  },
  {
   "cell_type": "code",
   "execution_count": 6,
   "id": "5911a933-6f7f-499a-9bdb-e4096ff52aeb",
   "metadata": {},
   "outputs": [
    {
     "name": "stdout",
     "output_type": "stream",
     "text": [
      "setter for circum_radius called -- you are modifying original circum_radius:\n"
     ]
    }
   ],
   "source": [
    "p.set_circum_rad = 5"
   ]
  },
  {
   "cell_type": "code",
   "execution_count": 7,
   "id": "230616f7-9402-4c85-bb54-7402e8e8a94a",
   "metadata": {},
   "outputs": [
    {
     "data": {
      "text/plain": [
       "Polygon(edges=5, rad=5)"
      ]
     },
     "execution_count": 7,
     "metadata": {},
     "output_type": "execute_result"
    }
   ],
   "source": [
    "p"
   ]
  },
  {
   "cell_type": "code",
   "execution_count": 8,
   "id": "4476f268-8bd1-4a11-9995-014afe97d36e",
   "metadata": {},
   "outputs": [
    {
     "name": "stdout",
     "output_type": "stream",
     "text": [
      "getter for vertices\n",
      "executing first time ...\n",
      "getter for interior angle\n",
      "executing first time ...\n",
      "getter for edge_length\n",
      "executing first time ...\n",
      "getter for apothem\n",
      "executing first time ...\n",
      "getter for area\n",
      "executing first time ...\n",
      "getter for edge_length\n",
      "getter for apothem\n",
      "getter for perimeter\n",
      "executing first time ...\n",
      "getter for edge_length\n"
     ]
    },
    {
     "data": {
      "text/plain": [
       "(5,\n",
       " 108.0,\n",
       " 5.877852522924732,\n",
       " 4.045084971874737,\n",
       " 59.44103226844711,\n",
       " 29.38926261462366)"
      ]
     },
     "execution_count": 8,
     "metadata": {},
     "output_type": "execute_result"
    }
   ],
   "source": [
    "p.vertices, p.int_angle, p.edge_length, p.apothem, p.area, p.perimeter"
   ]
  },
  {
   "cell_type": "code",
   "execution_count": 9,
   "id": "2948b0dd-e8ff-4189-9c67-6c7681470ca1",
   "metadata": {},
   "outputs": [],
   "source": [
    "# Unintended usage of `_` defined variables. Now that we change the value like this, it still\n",
    "# prints out the last saved output that doesnt reflect the change in the parameter value.\n",
    "\n",
    "p._vertices = 9"
   ]
  },
  {
   "cell_type": "code",
   "execution_count": 10,
   "id": "fd4a19dc-fd7d-4337-a207-72fda78d6a4d",
   "metadata": {},
   "outputs": [
    {
     "name": "stdout",
     "output_type": "stream",
     "text": [
      "getter for vertices\n",
      "getter for interior angle\n",
      "getter for edge_length\n",
      "getter for apothem\n",
      "getter for area\n",
      "getter for perimeter\n"
     ]
    },
    {
     "data": {
      "text/plain": [
       "(9,\n",
       " 108.0,\n",
       " 5.877852522924732,\n",
       " 4.045084971874737,\n",
       " 59.44103226844711,\n",
       " 29.38926261462366)"
      ]
     },
     "execution_count": 10,
     "metadata": {},
     "output_type": "execute_result"
    }
   ],
   "source": [
    "p.vertices, p.int_angle, p.edge_length, p.apothem, p.area, p.perimeter"
   ]
  },
  {
   "cell_type": "code",
   "execution_count": 11,
   "id": "6f177280-5880-486e-8f90-1aa9cb3de7de",
   "metadata": {},
   "outputs": [],
   "source": [
    "class PolygonIterator:\n",
    "    '''\n",
    "    This class takes in number of vertices for the largest polygon in the sequence. Currently the sequence type is chosen as list,\n",
    "    but it can be changed later, if required. The SequencePolygon class also takes in a circum_radius and it is assumed to be common\n",
    "    for all of the polygons in the sequence.\n",
    "    '''\n",
    "    \n",
    "    def __init__(self, num_vertices=3, circum_rad=6):\n",
    "        if not isinstance(num_vertices, int):\n",
    "            raise TypeError(f'\"num_vertices\" is an integer; TypeError')\n",
    "        if num_vertices < 3:\n",
    "            raise ValueError(f'Polygon has a minimum of 3 vertices; ValueError')\n",
    "        \n",
    "        self.num_vertices = num_vertices\n",
    "        self.circum_rad = circum_rad\n",
    "        self._pgon_pairs = ((Polygon, (edges, self.circum_rad)) for edges in range(3, self.num_vertices+1))\n",
    "        self.__start = 0\n",
    "        \n",
    "    def __len__(self):\n",
    "        return self.num_vertices - 2\n",
    "    \n",
    "    def __repr__(self):\n",
    "        return f'PolygonIterator(iterable: edges={self.num_vertices}, fixed: rad={self.circum_rad})'\n",
    "    \n",
    "    def __iter__(self):\n",
    "        return self._pgon_pairs\n",
    "               \n",
    "    def __next__(self):\n",
    "        try:\n",
    "            if self.__start < (self.num_vertices - 2):\n",
    "                current = self.__start\n",
    "                self.__start += 1\n",
    "                res = next(self._pgon_pairs)\n",
    "                return res[0](*res[1])\n",
    "            else:\n",
    "                raise StopIteration\n",
    "        except StopIteration:\n",
    "            print(f'StopIteration: Iterator reached max_value')\n",
    "                \n",
    "    def __getitem__(self, index):\n",
    "        try:\n",
    "            if index not in range(self.num_vertices - 2):\n",
    "                raise IndexError\n",
    "        except Exception:\n",
    "            print(f'IndexError: Index out of range')     \n",
    "        else:\n",
    "            res = next(itertools.islice(self._pgon_pairs, index, index+1))\n",
    "            return res[0](*res[1])"
   ]
  },
  {
   "cell_type": "code",
   "execution_count": 12,
   "id": "f09dafec-aa03-458f-ab78-466ef456066c",
   "metadata": {},
   "outputs": [],
   "source": [
    "s = PolygonIterator(5, 5)"
   ]
  },
  {
   "cell_type": "code",
   "execution_count": 13,
   "id": "8307488e-0595-4ddf-9fd0-10912a3bf794",
   "metadata": {},
   "outputs": [
    {
     "data": {
      "text/plain": [
       "Polygon(edges=3, rad=5)"
      ]
     },
     "execution_count": 13,
     "metadata": {},
     "output_type": "execute_result"
    }
   ],
   "source": [
    "next(s)"
   ]
  },
  {
   "cell_type": "code",
   "execution_count": 16,
   "id": "37069bb2-e272-49e2-974a-6480302c5f5c",
   "metadata": {},
   "outputs": [],
   "source": [
    "s = PolygonIterator(7, 5)"
   ]
  },
  {
   "cell_type": "code",
   "execution_count": 17,
   "id": "0d87d09e-4a7d-4e48-add9-1b629e41c83f",
   "metadata": {},
   "outputs": [
    {
     "name": "stdout",
     "output_type": "stream",
     "text": [
      "Polygon(edges=3, rad=5)\n",
      "Polygon(edges=4, rad=5)\n",
      "Polygon(edges=5, rad=5)\n",
      "Polygon(edges=6, rad=5)\n",
      "Polygon(edges=7, rad=5)\n"
     ]
    }
   ],
   "source": [
    "for i in iter(s):\n",
    "    print(i[0](*i[1]))"
   ]
  },
  {
   "cell_type": "code",
   "execution_count": 18,
   "id": "6878d910-04f2-4c5c-818c-7e062d5fd605",
   "metadata": {},
   "outputs": [],
   "source": [
    "s = PolygonIterator(5, 5)"
   ]
  },
  {
   "cell_type": "code",
   "execution_count": 19,
   "id": "1fb9802f-abab-4de2-8e70-7821219b4e73",
   "metadata": {},
   "outputs": [
    {
     "data": {
      "text/plain": [
       "PolygonIterator(iterable: edges=5, fixed: rad=5)"
      ]
     },
     "execution_count": 19,
     "metadata": {},
     "output_type": "execute_result"
    }
   ],
   "source": [
    "s"
   ]
  },
  {
   "cell_type": "code",
   "execution_count": 20,
   "id": "1bb4bc3f-38f1-4f13-88e0-dcb356bf2fa7",
   "metadata": {},
   "outputs": [
    {
     "data": {
      "text/plain": [
       "5"
      ]
     },
     "execution_count": 20,
     "metadata": {},
     "output_type": "execute_result"
    }
   ],
   "source": [
    "len(PolygonIterator(7, 5)) # gives 7-2 = 5 i.e. starts from 3"
   ]
  }
 ],
 "metadata": {
  "kernelspec": {
   "display_name": "Python 3",
   "language": "python",
   "name": "python3"
  },
  "language_info": {
   "codemirror_mode": {
    "name": "ipython",
    "version": 3
   },
   "file_extension": ".py",
   "mimetype": "text/x-python",
   "name": "python",
   "nbconvert_exporter": "python",
   "pygments_lexer": "ipython3",
   "version": "3.7.7"
  }
 },
 "nbformat": 4,
 "nbformat_minor": 5
}
